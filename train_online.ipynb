{
 "cells": [
  {
   "cell_type": "code",
   "execution_count": 1,
   "metadata": {},
   "outputs": [],
   "source": [
    "# Place %autoreload 2 at the top of your notebook to ensure it applies to all subsequent imports.\n",
    "%load_ext autoreload\n",
    "%autoreload 2\n",
    " \n"
   ]
  },
  {
   "cell_type": "code",
   "execution_count": 2,
   "metadata": {},
   "outputs": [
    {
     "name": "stderr",
     "output_type": "stream",
     "text": [
      "2025-08-29 10:17:24.210722: I tensorflow/core/util/port.cc:153] oneDNN custom operations are on. You may see slightly different numerical results due to floating-point round-off errors from different computation orders. To turn them off, set the environment variable `TF_ENABLE_ONEDNN_OPTS=0`.\n",
      "2025-08-29 10:17:24.222858: E external/local_xla/xla/stream_executor/cuda/cuda_fft.cc:467] Unable to register cuFFT factory: Attempting to register factory for plugin cuFFT when one has already been registered\n",
      "WARNING: All log messages before absl::InitializeLog() is called are written to STDERR\n",
      "E0000 00:00:1756455444.237575   70465 cuda_dnn.cc:8579] Unable to register cuDNN factory: Attempting to register factory for plugin cuDNN when one has already been registered\n",
      "E0000 00:00:1756455444.241812   70465 cuda_blas.cc:1407] Unable to register cuBLAS factory: Attempting to register factory for plugin cuBLAS when one has already been registered\n",
      "W0000 00:00:1756455444.252932   70465 computation_placer.cc:177] computation placer already registered. Please check linkage and avoid linking the same target more than once.\n",
      "W0000 00:00:1756455444.252945   70465 computation_placer.cc:177] computation placer already registered. Please check linkage and avoid linking the same target more than once.\n",
      "W0000 00:00:1756455444.252947   70465 computation_placer.cc:177] computation placer already registered. Please check linkage and avoid linking the same target more than once.\n",
      "W0000 00:00:1756455444.252948   70465 computation_placer.cc:177] computation placer already registered. Please check linkage and avoid linking the same target more than once.\n",
      "2025-08-29 10:17:24.256699: I tensorflow/core/platform/cpu_feature_guard.cc:210] This TensorFlow binary is optimized to use available CPU instructions in performance-critical operations.\n",
      "To enable the following instructions: AVX2 AVX512F AVX512_VNNI FMA, in other operations, rebuild TensorFlow with the appropriate compiler flags.\n"
     ]
    },
    {
     "name": "stdout",
     "output_type": "stream",
     "text": [
      "Warning, cannot find cuda-compiled version of RoPE2D, using a slow pytorch version instead\n"
     ]
    }
   ],
   "source": [
    "from __future__ import absolute_import, division, print_function\n",
    "import torch\n",
    "from trainer_end_to_end import Trainer\n",
    "from options import MonodepthOptions\n",
    "import time\n",
    "options = MonodepthOptions()\n",
    "args = [\n",
    "    '--data_path', '/mnt/nct-zfs/TCO-All/SharedDatasets/SCARED_Images_Resized/',\n",
    "    # '--of_samples_num', '3', \n",
    "    '--batch_size', '10', \n",
    "    # '--log_frequency', '2',\n",
    "    # '--log_dir', '/mnt/nct-zfs/TCO-Test/jinjingxu/exps/train/mvp3r/results/debug_reloc3r_backbone/relocxr',\n",
    "    '--debug',\n",
    "    ]\n",
    "opts = options.parse_notebook(args)# trainer.set_eval()\n",
    "# opts"
   ]
  },
  {
   "cell_type": "code",
   "execution_count": 3,
   "metadata": {},
   "outputs": [
    {
     "name": "stdout",
     "output_type": "stream",
     "text": [
      "DEBUG MODE\n",
      "update options for debug purposes...\n",
      "1234 is the seed!\n",
      "learning rate: 0.0001\n",
      "batch size is: 1\n",
      "Using DoMoRA\n",
      "DARES_MoDoRA\n"
     ]
    },
    {
     "name": "stderr",
     "output_type": "stream",
     "text": [
      "/mnt/cluster/environments/jinjingxu/pkg/envs/cu12/lib/python3.11/site-packages/torch/nn/utils/weight_norm.py:143: FutureWarning: `torch.nn.utils.weight_norm` is deprecated in favor of `torch.nn.utils.parametrizations.weight_norm`.\n",
      "  WeightNorm.apply(module, name, dim)\n"
     ]
    },
    {
     "name": "stdout",
     "output_type": "stream",
     "text": [
      "DoRA params initialized!\n",
      "DoRA rank is: [14, 14, 12, 12, 10, 10, 8, 8, 8, 8, 8, 8]\n",
      "DAM mora rank is  [14, 14, 12, 12, 10, 10, 8, 8, 8, 8, 8, 8]\n",
      "Vector MoRA params initialized!\n",
      "MoDoRA in Depth model\n"
     ]
    },
    {
     "name": "stderr",
     "output_type": "stream",
     "text": [
      "/mnt/cluster/workspaces/jinjingxu/proj/UniSfMLearner/submodule/Endo_FASt3r/trainer_end_to_end.py:174: FutureWarning: You are using `torch.load` with `weights_only=False` (the current default value), which uses the default pickle module implicitly. It is possible to construct malicious pickle data which will execute arbitrary code during unpickling (See https://github.com/pytorch/pytorch/blob/main/SECURITY.md#untrusted-models for more details). In a future release, the default value for `weights_only` will be flipped to `True`. This limits the functions that could be executed during unpickling. Arbitrary objects will no longer be allowed to be loaded via this mode unless they are explicitly allowlisted by the user via `torch.serialization.add_safe_globals`. We recommend you start setting `weights_only=True` for any use case where you don't have full control of the loaded file. Please open an issue on GitHub for any issues related to this experimental feature.\n",
      "  self.models[\"position_encoder\"].load_state_dict(torch.load(f\"{AF_PRETRAINED_ROOT}/position_encoder.pth\"))\n",
      "/mnt/cluster/workspaces/jinjingxu/proj/UniSfMLearner/submodule/Endo_FASt3r/trainer_end_to_end.py:180: FutureWarning: You are using `torch.load` with `weights_only=False` (the current default value), which uses the default pickle module implicitly. It is possible to construct malicious pickle data which will execute arbitrary code during unpickling (See https://github.com/pytorch/pytorch/blob/main/SECURITY.md#untrusted-models for more details). In a future release, the default value for `weights_only` will be flipped to `True`. This limits the functions that could be executed during unpickling. Arbitrary objects will no longer be allowed to be loaded via this mode unless they are explicitly allowlisted by the user via `torch.serialization.add_safe_globals`. We recommend you start setting `weights_only=True` for any use case where you don't have full control of the loaded file. Please open an issue on GitHub for any issues related to this experimental feature.\n",
      "  self.models[\"position\"].load_state_dict(torch.load(f\"{AF_PRETRAINED_ROOT}/position.pth\"))\n",
      "/mnt/cluster/workspaces/jinjingxu/proj/UniSfMLearner/submodule/Endo_FASt3r/trainer_end_to_end.py:187: FutureWarning: You are using `torch.load` with `weights_only=False` (the current default value), which uses the default pickle module implicitly. It is possible to construct malicious pickle data which will execute arbitrary code during unpickling (See https://github.com/pytorch/pytorch/blob/main/SECURITY.md#untrusted-models for more details). In a future release, the default value for `weights_only` will be flipped to `True`. This limits the functions that could be executed during unpickling. Arbitrary objects will no longer be allowed to be loaded via this mode unless they are explicitly allowlisted by the user via `torch.serialization.add_safe_globals`. We recommend you start setting `weights_only=True` for any use case where you don't have full control of the loaded file. Please open an issue on GitHub for any issues related to this experimental feature.\n",
      "  self.models[\"transform_encoder\"].load_state_dict(torch.load(f\"{AF_PRETRAINED_ROOT}/transform_encoder.pth\"))\n",
      "/mnt/cluster/workspaces/jinjingxu/proj/UniSfMLearner/submodule/Endo_FASt3r/trainer_end_to_end.py:194: FutureWarning: You are using `torch.load` with `weights_only=False` (the current default value), which uses the default pickle module implicitly. It is possible to construct malicious pickle data which will execute arbitrary code during unpickling (See https://github.com/pytorch/pytorch/blob/main/SECURITY.md#untrusted-models for more details). In a future release, the default value for `weights_only` will be flipped to `True`. This limits the functions that could be executed during unpickling. Arbitrary objects will no longer be allowed to be loaded via this mode unless they are explicitly allowlisted by the user via `torch.serialization.add_safe_globals`. We recommend you start setting `weights_only=True` for any use case where you don't have full control of the loaded file. Please open an issue on GitHub for any issues related to this experimental feature.\n",
      "  self.models[\"transform\"].load_state_dict(torch.load(f\"{AF_PRETRAINED_ROOT}/transform.pth\"))\n"
     ]
    },
    {
     "name": "stdout",
     "output_type": "stream",
     "text": [
      "DoMoRA in Reloc3rX\n"
     ]
    },
    {
     "name": "stderr",
     "output_type": "stream",
     "text": [
      "/mnt/cluster/workspaces/jinjingxu/proj/UniSfMLearner/submodule/Endo_FASt3r/reloc3r/reloc3r_relpose.py:182: FutureWarning: You are using `torch.load` with `weights_only=False` (the current default value), which uses the default pickle module implicitly. It is possible to construct malicious pickle data which will execute arbitrary code during unpickling (See https://github.com/pytorch/pytorch/blob/main/SECURITY.md#untrusted-models for more details). In a future release, the default value for `weights_only` will be flipped to `True`. This limits the functions that could be executed during unpickling. Arbitrary objects will no longer be allowed to be loaded via this mode unless they are explicitly allowlisted by the user via `torch.serialization.add_safe_globals`. We recommend you start setting `weights_only=True` for any use case where you don't have full control of the loaded file. Please open an issue on GitHub for any issues related to this experimental feature.\n",
      "  ckpt = torch.load(ckpt_path, map_location=device)\n"
     ]
    },
    {
     "name": "stdout",
     "output_type": "stream",
     "text": [
      "Model loaded from  /mnt/cluster/workspaces/jinjingxu/proj/MVP3R/baselines/reloc3r/checkpoints/reloc3r-512/Reloc3r-512.pth\n",
      "cross attention layers are frozen!\n",
      "DoRA params initialized!\n",
      "encoder rank is [20, 20, 20, 18, 18, 18, 18, 18, 16, 16, 16, 16, 14, 14, 12, 12, 10, 10, 8, 8, 8, 8, 8, 8]\n",
      "decoder rank is [14, 14, 12, 12, 10, 10, 8, 8, 8, 8, 8, 8]\n",
      "DAM mora rank for enc is  [20, 20, 20, 18, 18, 18, 18, 18, 16, 16, 16, 16, 14, 14, 12, 12, 10, 10, 8, 8, 8, 8, 8, 8]\n",
      "DAM mora rank for dec is  [14, 14, 12, 12, 10, 10, 8, 8, 8, 8, 8, 8]\n",
      "Vector MoRA params initialized!\n",
      "CHECK: NO self.opt.predictive_mask\n",
      "Training model named:\n",
      "   debug\n",
      "Models and tensorboard events files are saved to:\n",
      "   /mnt/nct-zfs/TCO-Test/jinjingxu/exps/train/mvp3r/results/debug_reloc3r_backbone/relocxr\n",
      "Training is using:\n",
      "   cuda\n",
      "use only of_samples_num samples for OF, for OF training...\n",
      "using 10 samples for OF, for speed up training..\n",
      "use only of_samples_num samples for OF, for OF training...\n",
      "using 10 samples for OF, for speed up training..\n",
      "Using dataset:\n",
      "   endovis\n",
      "There are 10 training items and 10 validation items\n",
      "\n",
      "trainer initialized...\n"
     ]
    },
    {
     "name": "stderr",
     "output_type": "stream",
     "text": [
      "/mnt/cluster/environments/jinjingxu/pkg/envs/cu12/lib/python3.11/site-packages/torch/functional.py:534: UserWarning: torch.meshgrid: in an upcoming release, it will be required to pass the indexing argument. (Triggered internally at /opt/conda/conda-bld/pytorch_1729647348947/work/aten/src/ATen/native/TensorShape.cpp:3595.)\n",
      "  return _VF.meshgrid(tensors, **kwargs)  # type: ignore[attr-defined]\n"
     ]
    }
   ],
   "source": [
    "# load model\n",
    "trainer = Trainer(opts)\n",
    "print('trainer initialized...')"
   ]
  },
  {
   "cell_type": "code",
   "execution_count": 4,
   "metadata": {},
   "outputs": [],
   "source": [
    "# opts.pose_model_type\n",
    "trainer.opt.pose_model_type"
   ]
  },
  {
   "cell_type": "code",
   "execution_count": 11,
   "metadata": {},
   "outputs": [
    {
     "name": "stdout",
     "output_type": "stream",
     "text": [
      "trainer initialized...\n",
      "Training\n",
      "color shape: torch.Size([3, 192, 224])\n",
      "motion_flow shape: torch.Size([2, 192, 224])\n",
      "position shape: torch.Size([2, 192, 224])\n",
      "color shape: torch.Size([3, 192, 224])\n",
      "motion_flow shape: torch.Size([2, 192, 224])\n",
      "position shape: torch.Size([2, 192, 224])\n",
      "Optic flow:\n",
      "Pose flow:\n",
      "Motion flow:\n",
      "saved train_concat_img.png in /mnt/cluster/workspaces/jinjingxu/proj/UniSfMLearner/submodule/Endo_FASt3r/Src-Tgt-Registered_Tgt-Colored_Tgt-Colored_Motion_Tgt-Optic_Flow-Pose_Flow-Motion_Flow-Occlursion_Mask.png\n"
     ]
    }
   ],
   "source": [
    "# trainer = Trainer(opts)\n",
    "self = trainer #Trainer(opts)\n",
    "print('trainer initialized...')\n",
    "\n",
    "\n",
    "\n",
    "\n",
    "\n",
    "\n",
    "\n",
    "\n",
    "\n",
    "# %%\n",
    "\n",
    "# trainer.train()\n",
    "\"\"\"Run the entire training pipeline\n",
    "\"\"\"\n",
    "self.epoch = 0\n",
    "self.step = 0\n",
    "self.start_time = time.time()\n",
    "with torch.no_grad():\n",
    "    # for self.epoch in range(self.opt.num_epochs):\n",
    "    # self.run_epoch(self.epoch)\n",
    "    \"\"\"Run a single epoch of training and validation\n",
    "    \"\"\"\n",
    "    epoch = self.epoch\n",
    "    print(\"Training\")\n",
    "\n",
    "    self.model_optimizer_0.zero_grad()# debug only: save_mem\n",
    "    self.model_optimizer.zero_grad()# debug only: save_mem\n",
    "\n",
    "    # for batch_idx, inputs in enumerate(self.train_loader):\n",
    "\n",
    "    train_iter = iter(self.train_loader)\n",
    "    inputs = next(train_iter)\n",
    "    before_op_time = time.time()\n",
    "\n",
    "    # position\n",
    "    self.set_train_0()\n",
    "    if self.opt.debug:\n",
    "        self.freeze_params(keys = ['position_encoder'])#debug only to save_mem\n",
    "    _, losses_0 = self.process_batch_0(inputs)\n",
    "    self.model_optimizer_0.zero_grad()\n",
    "    # losses_0[\"loss\"].backward()#debug only\n",
    "    torch.nn.utils.clip_grad_norm_(self.parameters_to_train_0, max_norm=1.0)\n",
    "    self.model_optimizer_0.step()\n",
    "\n",
    "    self.set_train()\n",
    "    if self.opt.debug:\n",
    "        self.freeze_params(keys = ['depth_model', 'pose', 'transform_encoder'])#debug only to save_mem\n",
    "    outputs, losses = self.process_batch(inputs)\n",
    "    self.model_optimizer.zero_grad()\n",
    "    # losses[\"loss\"].backward() #debug only\n",
    "    torch.nn.utils.clip_grad_norm_(self.parameters_to_train, max_norm=1.0)\n",
    "    self.model_optimizer.step()\n",
    "\n",
    "    duration = time.time() - before_op_time\n",
    "\n",
    "    # phase = batch_idx % self.opt.log_frequency == 0\n",
    "\n",
    "    # if phase:\n",
    "\n",
    "    # self.log_time(batch_idx, duration, losses[\"loss\"].cpu().data)\n",
    "    concat_img, img_order_strs = self.log(\"train\", inputs, outputs, losses, compute_vis=True, online_vis=False)\n",
    "\n",
    "    import os, cv2\n",
    "    save_path = \"/mnt/cluster/workspaces/jinjingxu/proj/UniSfMLearner/submodule/Endo_FASt3r/\"\n",
    "    save_path = os.path.join(save_path, f\"{img_order_strs}.png\")\n",
    "    cv2.imwrite(save_path, concat_img)\n",
    "    print(f\"saved train_concat_img.png in {save_path}\")\n",
    "\n",
    "    self.step += 1\n",
    "    \n",
    "    # break\n",
    "        \n",
    "    self.model_lr_scheduler.step()\n",
    "    self.model_lr_scheduler_0.step()\n",
    "\n",
    "    # if (self.epoch + 1) % self.opt.save_frequency == 0:\n",
    "    #     self.save_model()\n",
    "    # break\n"
   ]
  },
  {
   "cell_type": "code",
   "execution_count": 6,
   "metadata": {},
   "outputs": [],
   "source": [
    "\n",
    "# self.set_eval()\n",
    "# try:\n",
    "#     # inputs = self.val_iter.next()\n",
    "#     inputs = next(self.val_iter)\n",
    "# except StopIteration:\n",
    "#     self.val_iter = iter(self.val_loader)\n",
    "#     inputs = self.val_iter.next()\n",
    "\n",
    "# with torch.no_grad():\n",
    "#     # outputs, losses = self.process_batch_val(inputs)\n",
    "#     \"\"\"Pass a minibatch through the network and generate images and losses\n",
    "#     \"\"\"\n",
    "#     for key, ipt in inputs.items():\n",
    "#         inputs[key] = ipt.to(self.device)\n",
    "\n",
    "#     if self.opt.pose_model_type == \"shared\":\n",
    "#         # If we are using a shared encoder for both depth and pose (as advocated\n",
    "#         # in monodepthv1), then all images are fed separately through the depth encoder.\n",
    "#         print('CHECK: self.opt.pose_model_type == \"shared\"')\n",
    "#         all_color_aug = torch.cat([inputs[(\"color_aug\", i, 0)] for i in self.opt.frame_ids])\n",
    "#         all_features = self.models[\"encoder\"](all_color_aug)\n",
    "#         all_features = [torch.split(f, self.opt.batch_size) for f in all_features]\n",
    "\n",
    "#         features = {}\n",
    "#         for i, k in enumerate(self.opt.frame_ids):\n",
    "#             features[k] = [f[i] for f in all_features]\n",
    "\n",
    "#         outputs = self.models[\"depth\"](features[0])\n",
    "#     else:\n",
    "#         print('CHECK: self.opt.pose_model_type != \"shared\"')\n",
    "#         # Otherwise, we only feed the image with frame_id 0 through the depth encoder\n",
    "#         features = self.models[\"encoder\"](inputs[\"color_aug\", 0, 0])\n",
    "#         outputs = self.models[\"depth\"](features)\n",
    "\n",
    "#     if self.opt.predictive_mask:\n",
    "#         outputs[\"predictive_mask\"] = self.models[\"predictive_mask\"](features)\n",
    "\n",
    "#     if self.use_pose_net:\n",
    "#         outputs.update(self.predict_poses(inputs, features, outputs))\n",
    "\n",
    "#     self.generate_images_pred(inputs, outputs)\n",
    "#     losses = self.compute_losses_val(inputs, outputs)\n",
    "\n",
    "#     # return outputs, losses\n",
    "\n",
    "#     self.log(\"val\", inputs, outputs, losses)\n",
    "#     del inputs, outputs, losses"
   ]
  },
  {
   "cell_type": "code",
   "execution_count": null,
   "metadata": {},
   "outputs": [],
   "source": []
  },
  {
   "cell_type": "code",
   "execution_count": null,
   "metadata": {},
   "outputs": [],
   "source": []
  }
 ],
 "metadata": {
  "kernelspec": {
   "display_name": "cu12",
   "language": "python",
   "name": "python3"
  },
  "language_info": {
   "codemirror_mode": {
    "name": "ipython",
    "version": 3
   },
   "file_extension": ".py",
   "mimetype": "text/x-python",
   "name": "python",
   "nbconvert_exporter": "python",
   "pygments_lexer": "ipython3",
   "version": "3.11.11"
  }
 },
 "nbformat": 4,
 "nbformat_minor": 2
}
