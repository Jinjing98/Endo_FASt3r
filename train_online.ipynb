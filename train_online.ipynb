{
 "cells": [
  {
   "cell_type": "code",
   "execution_count": 1,
   "metadata": {},
   "outputs": [],
   "source": [
    "# Place %autoreload 2 at the top of your notebook to ensure it applies to all subsequent imports.\n",
    "%load_ext autoreload\n",
    "%autoreload 2\n",
    " \n"
   ]
  },
  {
   "cell_type": "code",
   "execution_count": 2,
   "metadata": {},
   "outputs": [
    {
     "name": "stderr",
     "output_type": "stream",
     "text": [
      "2025-09-12 21:37:20.289551: E external/local_xla/xla/stream_executor/cuda/cuda_fft.cc:467] Unable to register cuFFT factory: Attempting to register factory for plugin cuFFT when one has already been registered\n",
      "WARNING: All log messages before absl::InitializeLog() is called are written to STDERR\n",
      "E0000 00:00:1757705840.302779 2393174 cuda_dnn.cc:8579] Unable to register cuDNN factory: Attempting to register factory for plugin cuDNN when one has already been registered\n",
      "E0000 00:00:1757705840.306791 2393174 cuda_blas.cc:1407] Unable to register cuBLAS factory: Attempting to register factory for plugin cuBLAS when one has already been registered\n",
      "W0000 00:00:1757705840.317117 2393174 computation_placer.cc:177] computation placer already registered. Please check linkage and avoid linking the same target more than once.\n",
      "W0000 00:00:1757705840.317134 2393174 computation_placer.cc:177] computation placer already registered. Please check linkage and avoid linking the same target more than once.\n",
      "W0000 00:00:1757705840.317135 2393174 computation_placer.cc:177] computation placer already registered. Please check linkage and avoid linking the same target more than once.\n",
      "W0000 00:00:1757705840.317137 2393174 computation_placer.cc:177] computation placer already registered. Please check linkage and avoid linking the same target more than once.\n",
      "2025-09-12 21:37:20.320329: I tensorflow/core/platform/cpu_feature_guard.cc:210] This TensorFlow binary is optimized to use available CPU instructions in performance-critical operations.\n",
      "To enable the following instructions: AVX2 FMA, in other operations, rebuild TensorFlow with the appropriate compiler flags.\n"
     ]
    },
    {
     "name": "stdout",
     "output_type": "stream",
     "text": [
      "Warning, cannot find cuda-compiled version of RoPE2D, using a slow pytorch version instead\n"
     ]
    },
    {
     "data": {
      "text/plain": [
       "'endovis'"
      ]
     },
     "execution_count": 2,
     "metadata": {},
     "output_type": "execute_result"
    }
   ],
   "source": [
    "from __future__ import absolute_import, division, print_function\n",
    "import torch\n",
    "from trainer_end_to_end import Trainer\n",
    "from options import MonodepthOptions\n",
    "import time\n",
    "options = MonodepthOptions()\n",
    "args = [\n",
    "    '--data_path', '/mnt/nct-zfs/TCO-All/SharedDatasets/SCARED_Images_Resized/',\n",
    "    # '--of_samples_num', '3', \n",
    "    '--batch_size', '10', \n",
    "    # '--log_frequency', '2',\n",
    "    # '--log_dir', '/mnt/nct-zfs/TCO-Test/jinjingxu/exps/train/mvp3r/results/debug_reloc3r_backbone/relocxr',\n",
    "    '--debug',\n",
    "    ]\n",
    "opts = options.parse_notebook(args)# trainer.set_eval()\n",
    "# opts\n",
    "opts.dataset"
   ]
  },
  {
   "cell_type": "code",
   "execution_count": 3,
   "metadata": {},
   "outputs": [
    {
     "name": "stdout",
     "output_type": "stream",
     "text": [
      "DEBUG MODE\n",
      "update options for debug purposes...\n",
      "1234 is the seed!\n",
      "learning rate: 0.0001\n",
      "batch size is: 2\n",
      "accumulate steps is: 4\n",
      "effective batch size is: 8\n",
      "Using DoMoRA\n"
     ]
    },
    {
     "name": "stderr",
     "output_type": "stream",
     "text": [
      "/mnt/cluster/workspaces/jinjingxu/proj/UniSfMLearner/submodule/Endo_FASt3r/trainer_end_to_end.py:311: FutureWarning: You are using `torch.load` with `weights_only=False` (the current default value), which uses the default pickle module implicitly. It is possible to construct malicious pickle data which will execute arbitrary code during unpickling (See https://github.com/pytorch/pytorch/blob/main/SECURITY.md#untrusted-models for more details). In a future release, the default value for `weights_only` will be flipped to `True`. This limits the functions that could be executed during unpickling. Arbitrary objects will no longer be allowed to be loaded via this mode unless they are explicitly allowlisted by the user via `torch.serialization.add_safe_globals`. We recommend you start setting `weights_only=True` for any use case where you don't have full control of the loaded file. Please open an issue on GitHub for any issues related to this experimental feature.\n",
      "  depth_model_dict = torch.load(depth_model_path)\n"
     ]
    },
    {
     "name": "stdout",
     "output_type": "stream",
     "text": [
      "DARES_MoDoRA\n"
     ]
    },
    {
     "name": "stderr",
     "output_type": "stream",
     "text": [
      "/mnt/cluster/environments/jinjingxu/pkg/envs/cu12/lib/python3.11/site-packages/torch/nn/utils/weight_norm.py:143: FutureWarning: `torch.nn.utils.weight_norm` is deprecated in favor of `torch.nn.utils.parametrizations.weight_norm`.\n",
      "  WeightNorm.apply(module, name, dim)\n"
     ]
    },
    {
     "name": "stdout",
     "output_type": "stream",
     "text": [
      "DoRA params initialized!\n",
      "DoRA rank is: [14, 14, 12, 12, 10, 10, 8, 8, 8, 8, 8, 8]\n",
      "DAM mora rank is  [14, 14, 12, 12, 10, 10, 8, 8, 8, 8, 8, 8]\n",
      "Vector MoRA params initialized!\n",
      "MoDoRA in Depth model\n",
      "loaded endofast3r_depth_trained_dbg depth model...\n"
     ]
    },
    {
     "name": "stderr",
     "output_type": "stream",
     "text": [
      "/mnt/cluster/workspaces/jinjingxu/proj/UniSfMLearner/submodule/Endo_FASt3r/trainer_end_to_end.py:350: FutureWarning: You are using `torch.load` with `weights_only=False` (the current default value), which uses the default pickle module implicitly. It is possible to construct malicious pickle data which will execute arbitrary code during unpickling (See https://github.com/pytorch/pytorch/blob/main/SECURITY.md#untrusted-models for more details). In a future release, the default value for `weights_only` will be flipped to `True`. This limits the functions that could be executed during unpickling. Arbitrary objects will no longer be allowed to be loaded via this mode unless they are explicitly allowlisted by the user via `torch.serialization.add_safe_globals`. We recommend you start setting `weights_only=True` for any use case where you don't have full control of the loaded file. Please open an issue on GitHub for any issues related to this experimental feature.\n",
      "  self.models[\"position_encoder\"].load_state_dict(torch.load(f\"{AF_PRETRAINED_ROOT}/position_encoder.pth\"))\n",
      "/mnt/cluster/workspaces/jinjingxu/proj/UniSfMLearner/submodule/Endo_FASt3r/trainer_end_to_end.py:356: FutureWarning: You are using `torch.load` with `weights_only=False` (the current default value), which uses the default pickle module implicitly. It is possible to construct malicious pickle data which will execute arbitrary code during unpickling (See https://github.com/pytorch/pytorch/blob/main/SECURITY.md#untrusted-models for more details). In a future release, the default value for `weights_only` will be flipped to `True`. This limits the functions that could be executed during unpickling. Arbitrary objects will no longer be allowed to be loaded via this mode unless they are explicitly allowlisted by the user via `torch.serialization.add_safe_globals`. We recommend you start setting `weights_only=True` for any use case where you don't have full control of the loaded file. Please open an issue on GitHub for any issues related to this experimental feature.\n",
      "  self.models[\"position\"].load_state_dict(torch.load(f\"{AF_PRETRAINED_ROOT}/position.pth\"))\n",
      "/mnt/cluster/workspaces/jinjingxu/proj/UniSfMLearner/submodule/Endo_FASt3r/trainer_end_to_end.py:386: FutureWarning: You are using `torch.load` with `weights_only=False` (the current default value), which uses the default pickle module implicitly. It is possible to construct malicious pickle data which will execute arbitrary code during unpickling (See https://github.com/pytorch/pytorch/blob/main/SECURITY.md#untrusted-models for more details). In a future release, the default value for `weights_only` will be flipped to `True`. This limits the functions that could be executed during unpickling. Arbitrary objects will no longer be allowed to be loaded via this mode unless they are explicitly allowlisted by the user via `torch.serialization.add_safe_globals`. We recommend you start setting `weights_only=True` for any use case where you don't have full control of the loaded file. Please open an issue on GitHub for any issues related to this experimental feature.\n",
      "  self.models[\"transform_encoder\"].load_state_dict(torch.load(f\"{AF_PRETRAINED_ROOT}/transform_encoder.pth\"))\n",
      "/mnt/cluster/workspaces/jinjingxu/proj/UniSfMLearner/submodule/Endo_FASt3r/trainer_end_to_end.py:393: FutureWarning: You are using `torch.load` with `weights_only=False` (the current default value), which uses the default pickle module implicitly. It is possible to construct malicious pickle data which will execute arbitrary code during unpickling (See https://github.com/pytorch/pytorch/blob/main/SECURITY.md#untrusted-models for more details). In a future release, the default value for `weights_only` will be flipped to `True`. This limits the functions that could be executed during unpickling. Arbitrary objects will no longer be allowed to be loaded via this mode unless they are explicitly allowlisted by the user via `torch.serialization.add_safe_globals`. We recommend you start setting `weights_only=True` for any use case where you don't have full control of the loaded file. Please open an issue on GitHub for any issues related to this experimental feature.\n",
      "  self.models[\"transform\"].load_state_dict(torch.load(f\"{AF_PRETRAINED_ROOT}/transform.pth\"))\n"
     ]
    },
    {
     "name": "stdout",
     "output_type": "stream",
     "text": [
      "CHECK: NO self.opt.predictive_mask\n",
      "Model: depth_model\n",
      "  Total params: 24981153 (23.82 MB)\n",
      "  Total params trainable: 2933793 (2.80 MB)\n",
      "Model: position_encoder\n",
      "  Total params: 11698920 (11.16 MB)\n",
      "  Total params trainable: 11698920 (11.16 MB)\n",
      "Model: position\n",
      "  Total params: 3154888 (3.01 MB)\n",
      "  Total params trainable: 3154888 (3.01 MB)\n",
      "Model: motion_position_encoder\n",
      "  Total params: 11698920 (11.16 MB)\n",
      "  Total params trainable: 11698920 (11.16 MB)\n",
      "Model: motion_position\n",
      "  Total params: 3154888 (3.01 MB)\n",
      "  Total params trainable: 3154888 (3.01 MB)\n",
      "Model: transform_encoder\n",
      "  Total params: 11698920 (11.16 MB)\n",
      "  Total params trainable: 11698920 (11.16 MB)\n",
      "Model: transform\n",
      "  Total params: 3157052 (3.01 MB)\n",
      "  Total params trainable: 3157052 (3.01 MB)\n",
      "Model: pose_encoder\n",
      "  Total params: 11698920 (11.16 MB)\n",
      "  Total params trainable: 11698920 (11.16 MB)\n",
      "Model: pose\n",
      "  Total params: 1314572 (1.25 MB)\n",
      "  Total params trainable: 1314572 (1.25 MB)\n",
      "Total params: 82558233 (78.73 MB)\n",
      "Total params trainable: 60510873 (57.71 MB)\n",
      "Training model named:\n",
      "   debug_geoaware_in_unireloc3r\n",
      "Models and tensorboard events files are saved to:\n",
      "   /home/jinjingxu/tmp\n",
      "Training is using:\n",
      "   cuda\n",
      "use only of_samples_num samples for OF, for OF training...\n",
      "using 8 samples for OF, for speed up training..\n",
      "Loading trajectories for 8 unique folders...\n",
      "Successfully loaded 8 trajectories\n",
      "Loaded 8 trajectories\n",
      "use only of_samples_num samples for OF, for OF training...\n",
      "using 8 samples for OF, for speed up training..\n",
      "Loading trajectories for 1 unique folders...\n",
      "Successfully loaded 1 trajectories\n",
      "Loaded 1 trajectories\n"
     ]
    },
    {
     "name": "stderr",
     "output_type": "stream",
     "text": [
      "/mnt/cluster/workspaces/jinjingxu/proj/UniSfMLearner/submodule/Endo_FASt3r/trainer_end_to_end.py:407: FutureWarning: You are using `torch.load` with `weights_only=False` (the current default value), which uses the default pickle module implicitly. It is possible to construct malicious pickle data which will execute arbitrary code during unpickling (See https://github.com/pytorch/pytorch/blob/main/SECURITY.md#untrusted-models for more details). In a future release, the default value for `weights_only` will be flipped to `True`. This limits the functions that could be executed during unpickling. Arbitrary objects will no longer be allowed to be loaded via this mode unless they are explicitly allowlisted by the user via `torch.serialization.add_safe_globals`. We recommend you start setting `weights_only=True` for any use case where you don't have full control of the loaded file. Please open an issue on GitHub for any issues related to this experimental feature.\n",
      "  self.models[\"pose_encoder\"].load_state_dict(torch.load(pose_encoder_path))\n",
      "/mnt/cluster/workspaces/jinjingxu/proj/UniSfMLearner/submodule/Endo_FASt3r/trainer_end_to_end.py:416: FutureWarning: You are using `torch.load` with `weights_only=False` (the current default value), which uses the default pickle module implicitly. It is possible to construct malicious pickle data which will execute arbitrary code during unpickling (See https://github.com/pytorch/pytorch/blob/main/SECURITY.md#untrusted-models for more details). In a future release, the default value for `weights_only` will be flipped to `True`. This limits the functions that could be executed during unpickling. Arbitrary objects will no longer be allowed to be loaded via this mode unless they are explicitly allowlisted by the user via `torch.serialization.add_safe_globals`. We recommend you start setting `weights_only=True` for any use case where you don't have full control of the loaded file. Please open an issue on GitHub for any issues related to this experimental feature.\n",
      "  self.models[\"pose\"].load_state_dict(torch.load(pose_decoder_path))\n",
      "/mnt/cluster/environments/jinjingxu/pkg/envs/cu12/lib/python3.11/site-packages/torch/functional.py:534: UserWarning: torch.meshgrid: in an upcoming release, it will be required to pass the indexing argument. (Triggered internally at /opt/conda/conda-bld/pytorch_1729647348947/work/aten/src/ATen/native/TensorShape.cpp:3595.)\n",
      "  return _VF.meshgrid(tensors, **kwargs)  # type: ignore[attr-defined]\n"
     ]
    },
    {
     "name": "stdout",
     "output_type": "stream",
     "text": [
      "Using dataset:\n",
      "   endovis\n",
      "There are 8 training items and 8 validation items\n",
      "\n",
      "trainer initialized...\n"
     ]
    }
   ],
   "source": [
    "# load model\n",
    "trainer = Trainer(opts)\n",
    "print('trainer initialized...')"
   ]
  },
  {
   "cell_type": "code",
   "execution_count": 4,
   "metadata": {},
   "outputs": [
    {
     "data": {
      "text/plain": [
       "('separate_resnet', 'vanilla_pose_head_regression')"
      ]
     },
     "execution_count": 4,
     "metadata": {},
     "output_type": "execute_result"
    }
   ],
   "source": [
    "# opts.pose_model_type\n",
    "trainer.opt.pose_model_type,trainer.opt.unireloc3r_pose_estimation_mode"
   ]
  },
  {
   "cell_type": "code",
   "execution_count": 12,
   "metadata": {},
   "outputs": [
    {
     "name": "stdout",
     "output_type": "stream",
     "text": [
      "Training\n",
      "////frame_id as src: -1\n",
      "gt_tgt2src_rel_poses trans:\n",
      "tensor([[-0.2108,  0.3493, -0.0364],\n",
      "        [-0.0121, -0.0086, -0.1336]], device='cuda:0')\n",
      "pred_rel_poses_batch trans:\n",
      "tensor([[ 4.4339e-04,  1.2005e-03,  3.5292e-04],\n",
      "        [-6.1490e-05, -1.0257e-04, -4.7942e-04]], device='cuda:0')\n",
      "////frame_id as src: 1\n",
      "gt_tgt2src_rel_poses trans:\n",
      "tensor([[ 0.0868, -0.2566,  0.0505],\n",
      "        [ 0.0143,  0.0159,  0.1047]], device='cuda:0')\n",
      "pred_rel_poses_batch trans:\n",
      "tensor([[-3.4912e-04, -9.3808e-04,  1.4232e-04],\n",
      "        [ 1.4375e-04, -1.3884e-05,  4.9114e-04]], device='cuda:0')\n",
      "Report all metrics:\n",
      "trans_err_ang_deg: [tensor(32.0934, device='cuda:0'), tensor(26.1969, device='cuda:0')]\n",
      "trans_err_scale: [tensor(0.2714, device='cuda:0'), tensor(0.1906, device='cuda:0')]\n",
      "rot_err_deg: [tensor(0.1707, device='cuda:0'), tensor(0.1093, device='cuda:0')]\n",
      "pred_rel_trans_scale: [tensor(0.0009, device='cuda:0'), tensor(0.0008, device='cuda:0')]\n",
      "pred_f0_depth_scale: [tensor(0.2546, device='cuda:0'), tensor(0.2546, device='cuda:0')]\n",
      "pred_f0_cam_points_x_mean: [tensor(0.0004, device='cuda:0'), tensor(0.0004, device='cuda:0')]\n",
      "pred_f0_cam_points_y_mean: [tensor(-0.0041, device='cuda:0'), tensor(-0.0041, device='cuda:0')]\n",
      "pred_f0_cam_points_z_mean: [tensor(0.2546, device='cuda:0'), tensor(0.2546, device='cuda:0')]\n",
      "epoch   0 | batch      0 | examples/s:  10.7 | loss: 0.00634 | loss_0: 0.00753 | time elapsed: 00h00m01s | time left: 00h00m00s\n",
      "  Pose Errors: trans_err_ang_deg: 29.145 | trans_err_scale: 0.231 | rot_err_deg: 0.140 | pred_rel_trans_scale: 0.001 | pred_f0_depth_scale: 0.255 | pred_f0_cam_points_x_mean: 0.000 | pred_f0_cam_points_y_mean: -0.004 | pred_f0_cam_points_z_mean: 0.255 | \n",
      "trans_err_ang_deg: [tensor(32.0934, device='cuda:0'), tensor(26.1969, device='cuda:0')]\n",
      "trans_err_scale: [tensor(0.2714, device='cuda:0'), tensor(0.1906, device='cuda:0')]\n",
      "rot_err_deg: [tensor(0.1707, device='cuda:0'), tensor(0.1093, device='cuda:0')]\n",
      "pred_rel_trans_scale: [tensor(0.0009, device='cuda:0'), tensor(0.0008, device='cuda:0')]\n",
      "pred_f0_depth_scale: [tensor(0.2546, device='cuda:0'), tensor(0.2546, device='cuda:0')]\n",
      "pred_f0_cam_points_x_mean: [tensor(0.0004, device='cuda:0'), tensor(0.0004, device='cuda:0')]\n",
      "pred_f0_cam_points_y_mean: [tensor(-0.0041, device='cuda:0'), tensor(-0.0041, device='cuda:0')]\n",
      "pred_f0_cam_points_z_mean: [tensor(0.2546, device='cuda:0'), tensor(0.2546, device='cuda:0')]\n",
      "saved Src-Colored_Tgt-Tgt-Registered_Tgt-Refined_Tgt-Colored_Motion_Tgt-Optic_Flow-Pose_Flow-Occlursion_Mask-Depth-Brightness-Motion_Flow-Motion_Mask-.png in /home/jinjingxu/tmp/debug_geoaware_in_unireloc3r/0912-213726/imgs/0_Src-Colored_Tgt-Tgt-Registered_Tgt-Refined_Tgt-Colored_Motion_Tgt-Optic_Flow-Pose_Flow-Occlursion_Mask-Depth-Brightness-Motion_Flow-Motion_Mask-_0_-1.png\n",
      "saved train_concat_img.png in /mnt/cluster/workspaces/jinjingxu/proj/UniSfMLearner/submodule/Endo_FASt3r/Src-Colored_Tgt-Tgt-Registered_Tgt-Refined_Tgt-Colored_Motion_Tgt-Optic_Flow-Pose_Flow-Occlursion_Mask-Depth-Brightness-Motion_Flow-Motion_Mask-_0_-1.png\n"
     ]
    }
   ],
   "source": [
    "# trainer = Trainer(opts)\n",
    "self = trainer #Trainer(opts)\n",
    "\n",
    "\n",
    "# trainer.train()\n",
    "\"\"\"Run the entire training pipeline\n",
    "\"\"\"\n",
    "self.epoch = 0\n",
    "self.step = 0\n",
    "self.start_time = time.time()\n",
    "\n",
    "#quick and convenient but confusing recontrooling!\n",
    "# self.opt.min_depth = 10.0 #risky\n",
    "# self.opt.min_depth = 0.1 #risky\n",
    "# self.opt.max_depth = 150.0\n",
    "# self.opt.gt_metric_rel_pose_as_estimates_debug = False\n",
    "\n",
    "# trained fast3r\n",
    "# depth: 0.2-0.3\n",
    "# rel_pose_per_axis: 2e-4\n",
    "\n",
    "with torch.no_grad():\n",
    "    # for self.epoch in range(self.opt.num_epochs):\n",
    "    # self.run_epoch(self.epoch)\n",
    "    \"\"\"Run a single epoch of training and validation\n",
    "    \"\"\"\n",
    "    epoch = self.epoch\n",
    "    print(\"Training\")\n",
    "\n",
    "    self.model_optimizer_0.zero_grad()# debug only: save_mem\n",
    "    self.model_optimizer.zero_grad()# debug only: save_mem\n",
    "\n",
    "    # for batch_idx, inputs in enumerate(self.train_loader):\n",
    "    train_iter = iter(self.train_loader)\n",
    "    inputs = next(train_iter)\n",
    "\n",
    "\n",
    "\n",
    "    before_op_time = time.time()\n",
    "\n",
    "    # position\n",
    "    self.set_train_0()\n",
    "    if self.opt.debug:\n",
    "        self.freeze_params(keys = ['position_encoder'])#debug only to save_mem\n",
    "    _, losses_0 = self.process_batch_0(inputs)\n",
    "    self.model_optimizer_0.zero_grad()\n",
    "    # losses_0[\"loss\"].backward()#debug only\n",
    "    torch.nn.utils.clip_grad_norm_(self.parameters_to_train_0, max_norm=1.0)\n",
    "    self.model_optimizer_0.step()\n",
    "\n",
    "    self.set_train()\n",
    "    if self.opt.debug:\n",
    "        self.freeze_params(keys = ['depth_model', 'pose', 'transform_encoder'])#debug only to save_mem\n",
    "    outputs, losses= self.process_batch(inputs)\n",
    "    self.model_optimizer.zero_grad()\n",
    "    # losses[\"loss\"].backward() #debug only\n",
    "    torch.nn.utils.clip_grad_norm_(self.parameters_to_train, max_norm=1.0)\n",
    "    self.model_optimizer.step()\n",
    "\n",
    "    duration = time.time() - before_op_time\n",
    "\n",
    "    # phase = batch_idx % self.opt.log_frequency == 0\n",
    "\n",
    "    # # if phase:\n",
    "    # # self.log_time(batch_idx, duration, losses[\"loss\"].cpu().data)\n",
    "    # self.log_time(0, duration, losses[\"loss\"].cpu().data, losses_0[\"loss\"].cpu().data, )\n",
    "    # scalers_to_log = {\n",
    "    #     \"scalar/loss\": losses[\"loss\"],\n",
    "    #     \"scalar/loss_0\": losses_0[\"loss\"],\n",
    "    #     # \"scalar/trans_err\": metric_errs[\"trans_err\"].mean(),\n",
    "    #     # \"scalar/rot_err\": metric_errs[\"rot_err\"].mean()\n",
    "    # }\n",
    "    # for k, v in errs.items():\n",
    "    #     print(f\"scalar/{k}: {v}\")\n",
    "    #     scalers_to_log[f\"scalar/{k}\"] = v\n",
    "    # concat_img, img_order_strs = self.log(\"train\", inputs, outputs, scalers_to_log, compute_vis=True, online_vis=False)\n",
    "    \n",
    "    \n",
    "    # Use the accumulated loss for logging (multiply back to show effective loss)\n",
    "    # effective_loss = losses[\"loss\"] * (self.opt.accumulate_steps / max(1, accumulate_step % self.opt.accumulate_steps))\n",
    "    # self.log_time(batch_idx, duration, effective_loss.cpu().data)\n",
    "    losses_to_log = {\n",
    "        \"loss\": losses[\"loss\"],\n",
    "        \"loss_0\": losses_0[\"loss\"],\n",
    "    }\n",
    "    errs_to_log = {}\n",
    "    errs = self.compute_pose_metrics(inputs, outputs)\n",
    "    for k, v in errs.items():\n",
    "        assert len(v) == len(self.opt.frame_ids)-1, f'{k}: {v}'\n",
    "        # v is a list of torch tensors, average over them\n",
    "        errs_to_log[f\"{k}\"] = torch.mean(torch.stack(v)).item()\n",
    "\n",
    "    self.log_time(self.step, duration, losses[\"loss\"].cpu().data, losses_0[\"loss\"].cpu().data, \n",
    "                    errs_to_log)\n",
    "    scalers_to_log = {**losses_to_log, **errs_to_log}\n",
    "    scalers_to_log = {f\"scalar/{k}\": v for k, v in scalers_to_log.items()}    \n",
    "    # #compute_pose_err\n",
    "    for k, v in errs.items():\n",
    "        print(f\"{k}: {v}\")\n",
    "\n",
    "    # print('trans_err:', outputs[(\"trans_err\", 0)])\n",
    "    # print('rot_err:', outputs[(\"rot_err\", 0)])\n",
    "\n",
    " \n",
    "\n",
    "    # concat_img, img_order_strs = self.log(\"train\", inputs, outputs, \n",
    "    concat_img_list, img_order_strs_list = self.log(\"train\", inputs, outputs, \n",
    "                scalers_to_log, \n",
    "                compute_vis=True)\n",
    "\n",
    "    import os, cv2\n",
    "    save_path = \"/mnt/cluster/workspaces/jinjingxu/proj/UniSfMLearner/submodule/Endo_FASt3r/\"\n",
    "    for concat_img, img_order_strs in zip(concat_img_list, img_order_strs_list):\n",
    "    # concat_img, img_order_strs = self.log(\"train\", inputs, outputs, \n",
    "\n",
    "        # remove the first char before the first _\n",
    "        # img_order_strs = img_order_strs.split('_')[1:]\n",
    "        # img_order_strs = '_'.join(img_order_strs)\n",
    "        full_save_path = os.path.join(save_path, f\"{img_order_strs}.png\")\n",
    "        cv2.imwrite(full_save_path, concat_img)\n",
    "        print(f\"saved train_concat_img.png in {full_save_path}\")\n",
    "\n",
    "    self.step += 1\n",
    "    \n",
    "    # break\n",
    "        \n",
    "    self.model_lr_scheduler.step()\n",
    "    self.model_lr_scheduler_0.step()\n",
    "\n",
    "    # if (self.epoch + 1) % self.opt.save_frequency == 0:\n",
    "    #     self.save_model()\n",
    "    # break\n",
    "    \n",
    "\n",
    "\n",
    "    # depth dim:\n",
    "    # 256 320\n",
    "    # 128,160,  \n",
    "    # 64,80,\n",
    "    # 32 40    # ===we go for this\n",
    "\n",
    "\n",
    "\n",
    "# 0.06 0.04 0.04"
   ]
  },
  {
   "cell_type": "code",
   "execution_count": 17,
   "metadata": {},
   "outputs": [],
   "source": [
    "# 97 -16 -43"
   ]
  },
  {
   "cell_type": "code",
   "execution_count": 18,
   "metadata": {},
   "outputs": [],
   "source": [
    "\n",
    "# self.set_eval()\n",
    "# try:\n",
    "#     # inputs = self.val_iter.next()\n",
    "#     inputs = next(self.val_iter)\n",
    "# except StopIteration:\n",
    "#     self.val_iter = iter(self.val_loader)\n",
    "#     inputs = self.val_iter.next()\n",
    "\n",
    "# with torch.no_grad():\n",
    "#     # outputs, losses = self.process_batch_val(inputs)\n",
    "#     \"\"\"Pass a minibatch through the network and generate images and losses\n",
    "#     \"\"\"\n",
    "#     for key, ipt in inputs.items():\n",
    "#         inputs[key] = ipt.to(self.device)\n",
    "\n",
    "#     if self.opt.pose_model_type == \"shared\":\n",
    "#         # If we are using a shared encoder for both depth and pose (as advocated\n",
    "#         # in monodepthv1), then all images are fed separately through the depth encoder.\n",
    "#         print('CHECK: self.opt.pose_model_type == \"shared\"')\n",
    "#         all_color_aug = torch.cat([inputs[(\"color_aug\", i, 0)] for i in self.opt.frame_ids])\n",
    "#         all_features = self.models[\"encoder\"](all_color_aug)\n",
    "#         all_features = [torch.split(f, self.opt.batch_size) for f in all_features]\n",
    "\n",
    "#         features = {}\n",
    "#         for i, k in enumerate(self.opt.frame_ids):\n",
    "#             features[k] = [f[i] for f in all_features]\n",
    "\n",
    "#         outputs = self.models[\"depth\"](features[0])\n",
    "#     else:\n",
    "#         print('CHECK: self.opt.pose_model_type != \"shared\"')\n",
    "#         # Otherwise, we only feed the image with frame_id 0 through the depth encoder\n",
    "#         features = self.models[\"encoder\"](inputs[\"color_aug\", 0, 0])\n",
    "#         outputs = self.models[\"depth\"](features)\n",
    "\n",
    "#     if self.opt.predictive_mask:\n",
    "#         outputs[\"predictive_mask\"] = self.models[\"predictive_mask\"](features)\n",
    "\n",
    "#     if self.use_pose_net:\n",
    "#         outputs.update(self.predict_poses(inputs, features, outputs))\n",
    "\n",
    "#     self.generate_images_pred(inputs, outputs)\n",
    "#     losses = self.compute_losses_val(inputs, outputs)\n",
    "\n",
    "#     # return outputs, losses\n",
    "\n",
    "#     self.log(\"val\", inputs, outputs, losses)\n",
    "#     del inputs, outputs, losses"
   ]
  },
  {
   "cell_type": "code",
   "execution_count": null,
   "metadata": {},
   "outputs": [],
   "source": []
  },
  {
   "cell_type": "code",
   "execution_count": null,
   "metadata": {},
   "outputs": [],
   "source": []
  }
 ],
 "metadata": {
  "kernelspec": {
   "display_name": "cu12",
   "language": "python",
   "name": "python3"
  },
  "language_info": {
   "codemirror_mode": {
    "name": "ipython",
    "version": 3
   },
   "file_extension": ".py",
   "mimetype": "text/x-python",
   "name": "python",
   "nbconvert_exporter": "python",
   "pygments_lexer": "ipython3",
   "version": "3.11.11"
  }
 },
 "nbformat": 4,
 "nbformat_minor": 2
}
