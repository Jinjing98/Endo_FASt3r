{
 "cells": [
  {
   "cell_type": "code",
   "execution_count": 1,
   "metadata": {},
   "outputs": [],
   "source": [
    "# Place %autoreload 2 at the top of your notebook to ensure it applies to all subsequent imports.\n",
    "%load_ext autoreload\n",
    "%autoreload 2\n",
    " \n"
   ]
  },
  {
   "cell_type": "code",
   "execution_count": 2,
   "metadata": {},
   "outputs": [
    {
     "name": "stderr",
     "output_type": "stream",
     "text": [
      "2025-10-18 09:20:23.885201: E external/local_xla/xla/stream_executor/cuda/cuda_fft.cc:467] Unable to register cuFFT factory: Attempting to register factory for plugin cuFFT when one has already been registered\n",
      "WARNING: All log messages before absl::InitializeLog() is called are written to STDERR\n",
      "E0000 00:00:1760772023.899168 3299804 cuda_dnn.cc:8579] Unable to register cuDNN factory: Attempting to register factory for plugin cuDNN when one has already been registered\n",
      "E0000 00:00:1760772023.903429 3299804 cuda_blas.cc:1407] Unable to register cuBLAS factory: Attempting to register factory for plugin cuBLAS when one has already been registered\n",
      "W0000 00:00:1760772023.914837 3299804 computation_placer.cc:177] computation placer already registered. Please check linkage and avoid linking the same target more than once.\n",
      "W0000 00:00:1760772023.914853 3299804 computation_placer.cc:177] computation placer already registered. Please check linkage and avoid linking the same target more than once.\n",
      "W0000 00:00:1760772023.914854 3299804 computation_placer.cc:177] computation placer already registered. Please check linkage and avoid linking the same target more than once.\n",
      "W0000 00:00:1760772023.914855 3299804 computation_placer.cc:177] computation placer already registered. Please check linkage and avoid linking the same target more than once.\n",
      "2025-10-18 09:20:23.918552: I tensorflow/core/platform/cpu_feature_guard.cc:210] This TensorFlow binary is optimized to use available CPU instructions in performance-critical operations.\n",
      "To enable the following instructions: AVX2 FMA, in other operations, rebuild TensorFlow with the appropriate compiler flags.\n"
     ]
    },
    {
     "name": "stdout",
     "output_type": "stream",
     "text": [
      "Warning, cannot find cuda-compiled version of RoPE2D, using a slow pytorch version instead\n"
     ]
    },
    {
     "name": "stderr",
     "output_type": "stream",
     "text": [
      "xFormers not available\n",
      "xFormers not available\n"
     ]
    },
    {
     "name": "stdout",
     "output_type": "stream",
     "text": [
      "xFormers not available\n",
      "xFormers not available\n"
     ]
    },
    {
     "data": {
      "text/plain": [
       "(None, [0, -1, 1], 'posetr_net')"
      ]
     },
     "execution_count": 2,
     "metadata": {},
     "output_type": "execute_result"
    }
   ],
   "source": [
    "from __future__ import absolute_import, division, print_function\n",
    "import torch\n",
    "from trainer_end_to_end import Trainer\n",
    "from options import MonodepthOptions\n",
    "import time\n",
    "options = MonodepthOptions()\n",
    "args = [\n",
    "    '--num_epochs', '50000',\n",
    "    '--num_workers', '1',\n",
    "    '--batch_size', '2',\n",
    "    '--batch_size', '1',\n",
    "    '--log_frequency', '10',\n",
    "    '--save_frequency', '100000',\n",
    "    '--of_samples',\n",
    "    '--of_samples_num', '300', \n",
    "    '--of_samples_num', '50', \n",
    "    '--enable_motion_computation', \n",
    "    '--use_raft_flow',\n",
    "    '--depth_model_type', 'dam', \n",
    "    '--depth_model_type', 'unisfm_depth', \n",
    "    '--depth_model_type', 'endofast3r_depth_trained_dbg',\n",
    "    '--pose_model_type', 'endofast3r', \n",
    "    '--pose_model_type', 'posetr_net', \n",
    "    '--frame_ids', '0', '-4', '4',\n",
    "    '--frame_ids', '0', '-1', '1',\n",
    "    '--dataset', 'StereoMIS',\n",
    "    '--data_path', '/mnt/nct-zfs/TCO-All/SharedDatasets/StereoMIS_DARES_test/',\n",
    "    '--dataset', 'DynaSCARED',\n",
    "    '--split_appendix', '_CaToTi011',\n",
    "    '--split_appendix', '_CaToTi001',\n",
    "    '--split_appendix', '_CaToTi101',\n",
    "    # '--split_appendix', '_CaToTi010',\n",
    "    '--data_path', '/mnt/cluster/datasets/Surg_oclr_stereo/',\n",
    "    '--dataset', 'endovis',\n",
    "    '--split_appendix', '',\n",
    "    '--data_path', '/mnt/nct-zfs/TCO-All/SharedDatasets/SCARED_Images_Resized/',\n",
    "    '--dataset', 'StereoMIS',\n",
    "    '--split_appendix', '_4cases_trn',\n",
    "    '--data_path', '/mnt/nct-zfs/TCO-All/SharedDatasets/StereoMIS_DARES_test/',\n",
    "    '--motion_mask_thre_px', '1',\n",
    "    '--loss_reproj2_motion_mask_type', 'onthefly_monov2',\n",
    "    '--MF_network_type', 'posenet_MLPhead',\n",
    "    '--MF_network_type', 'posenet_DPThead',\n",
    "    '--use_MF_network',\n",
    "    '--enable_grad_flow_motion_mask',\n",
    "    '--log_dir', '/mnt/nct-zfs/TCO-Test/jinjingxu/exps/train/mvp3r/results/unisfm/offline_imgs'\n",
    "    # '--frame_ids', '0', '-1', '1',\n",
    "    # '--pose_model_type', 'separate_resnet', \n",
    "    # '--log_frequency', '2',\n",
    "    # '--log_dir', '/mnt/nct-zfs/TCO-Test/jinjingxu/exps/train/mvp3r/results/debug_reloc3r_backbone/relocxr',\n",
    "    # '--debug',\n",
    "    ]\n",
    "opts = options.parse_notebook(args)# trainer.set_eval()\n",
    "# # opts\n",
    "opts.datasets, opts.frame_ids, opts.pose_model_type"
   ]
  },
  {
   "cell_type": "code",
   "execution_count": 3,
   "metadata": {},
   "outputs": [
    {
     "name": "stderr",
     "output_type": "stream",
     "text": [
      "No traceback available to show.\n"
     ]
    }
   ],
   "source": [
    "%tb\n",
    "# self = trainer\n",
    "# self.train_dataset.frame_ids, self.opt.frame_ids, opts.frame_ids\n"
   ]
  },
  {
   "cell_type": "code",
   "execution_count": 4,
   "metadata": {},
   "outputs": [
    {
     "name": "stderr",
     "output_type": "stream",
     "text": [
      "/mnt/cluster/workspaces/jinjingxu/proj/UniSfMLearner/submodule/Endo_FASt3r/trainer_end_to_end.py:398: FutureWarning: You are using `torch.load` with `weights_only=False` (the current default value), which uses the default pickle module implicitly. It is possible to construct malicious pickle data which will execute arbitrary code during unpickling (See https://github.com/pytorch/pytorch/blob/main/SECURITY.md#untrusted-models for more details). In a future release, the default value for `weights_only` will be flipped to `True`. This limits the functions that could be executed during unpickling. Arbitrary objects will no longer be allowed to be loaded via this mode unless they are explicitly allowlisted by the user via `torch.serialization.add_safe_globals`. We recommend you start setting `weights_only=True` for any use case where you don't have full control of the loaded file. Please open an issue on GitHub for any issues related to this experimental feature.\n",
      "  depth_model_dict = torch.load(depth_model_path)\n"
     ]
    },
    {
     "name": "stdout",
     "output_type": "stream",
     "text": [
      "Creating new tensorboard logging directory: /mnt/nct-zfs/TCO-Test/jinjingxu/exps/train/mvp3r/results/unisfm/offline_imgs/mdp/1018-092029\n",
      "1234 is the seed!\n",
      "learning rate: 0.0001\n",
      "batch size is: 1\n",
      "accumulate steps is: 1\n",
      "effective batch size is: 1\n",
      "Using DoMoRA\n",
      "DARES_MoDoRA\n"
     ]
    },
    {
     "name": "stderr",
     "output_type": "stream",
     "text": [
      "/mnt/cluster/environments/jinjingxu/pkg/envs/cu12/lib/python3.11/site-packages/torch/nn/utils/weight_norm.py:143: FutureWarning: `torch.nn.utils.weight_norm` is deprecated in favor of `torch.nn.utils.parametrizations.weight_norm`.\n",
      "  WeightNorm.apply(module, name, dim)\n"
     ]
    },
    {
     "name": "stdout",
     "output_type": "stream",
     "text": [
      "DoRA params initialized!\n",
      "DoRA rank is: [14, 14, 12, 12, 10, 10, 8, 8, 8, 8, 8, 8]\n",
      "DAM mora rank is  [14, 14, 12, 12, 10, 10, 8, 8, 8, 8, 8, 8]\n",
      "Vector MoRA params initialized!\n",
      "MoDoRA in Depth model\n",
      "loaded endofast3r_depth_trained_dbg depth model...\n",
      "Using RAFT optical flow estimator instead of custom position networks\n",
      "RAFT flow estimator initialized (trainable)\n"
     ]
    },
    {
     "name": "stderr",
     "output_type": "stream",
     "text": [
      "/mnt/cluster/workspaces/jinjingxu/proj/UniSfMLearner/submodule/Endo_FASt3r/trainer_end_to_end.py:491: FutureWarning: You are using `torch.load` with `weights_only=False` (the current default value), which uses the default pickle module implicitly. It is possible to construct malicious pickle data which will execute arbitrary code during unpickling (See https://github.com/pytorch/pytorch/blob/main/SECURITY.md#untrusted-models for more details). In a future release, the default value for `weights_only` will be flipped to `True`. This limits the functions that could be executed during unpickling. Arbitrary objects will no longer be allowed to be loaded via this mode unless they are explicitly allowlisted by the user via `torch.serialization.add_safe_globals`. We recommend you start setting `weights_only=True` for any use case where you don't have full control of the loaded file. Please open an issue on GitHub for any issues related to this experimental feature.\n",
      "  self.models[\"transform_encoder\"].load_state_dict(torch.load(f\"{AF_PRETRAINED_ROOT}/transform_encoder.pth\"))\n",
      "/mnt/cluster/workspaces/jinjingxu/proj/UniSfMLearner/submodule/Endo_FASt3r/trainer_end_to_end.py:498: FutureWarning: You are using `torch.load` with `weights_only=False` (the current default value), which uses the default pickle module implicitly. It is possible to construct malicious pickle data which will execute arbitrary code during unpickling (See https://github.com/pytorch/pytorch/blob/main/SECURITY.md#untrusted-models for more details). In a future release, the default value for `weights_only` will be flipped to `True`. This limits the functions that could be executed during unpickling. Arbitrary objects will no longer be allowed to be loaded via this mode unless they are explicitly allowlisted by the user via `torch.serialization.add_safe_globals`. We recommend you start setting `weights_only=True` for any use case where you don't have full control of the loaded file. Please open an issue on GitHub for any issues related to this experimental feature.\n",
      "  self.models[\"transform\"].load_state_dict(torch.load(f\"{AF_PRETRAINED_ROOT}/transform.pth\"))\n",
      "/mnt/cluster/workspaces/jinjingxu/proj/UniSfMLearner/submodule/Endo_FASt3r/posetr/posetr_model_v2.py:135: FutureWarning: You are using `torch.load` with `weights_only=False` (the current default value), which uses the default pickle module implicitly. It is possible to construct malicious pickle data which will execute arbitrary code during unpickling (See https://github.com/pytorch/pytorch/blob/main/SECURITY.md#untrusted-models for more details). In a future release, the default value for `weights_only` will be flipped to `True`. This limits the functions that could be executed during unpickling. Arbitrary objects will no longer be allowed to be loaded via this mode unless they are explicitly allowlisted by the user via `torch.serialization.add_safe_globals`. We recommend you start setting `weights_only=True` for any use case where you don't have full control of the loaded file. Please open an issue on GitHub for any issues related to this experimental feature.\n",
      "  ckpt = torch.load(ckpt_path)\n"
     ]
    },
    {
     "name": "stdout",
     "output_type": "stream",
     "text": [
      "Warning: Unexpected keys: {'prediction_head', 'mask_token'}\n",
      "loaded pretrained croco v2 weights...\n",
      "loaded posetr_net pose model...\n",
      "CHECK: NO self.opt.predictive_mask\n",
      "Model: depth_model\n",
      "  Total params: 24981153 (95.30 MB)\n",
      "  Total params trainable: 2933793 (11.19 MB)\n",
      "Model: raft_flow\n",
      "  Total params: 5257536 (20.06 MB)\n",
      "  Total params trainable: 5257536 (20.06 MB)\n",
      "Model: transform_encoder\n",
      "  Total params: 11698920 (44.63 MB)\n",
      "  Total params trainable: 11698920 (44.63 MB)\n",
      "Model: transform\n",
      "  Total params: 3157052 (12.04 MB)\n",
      "  Total params trainable: 3157052 (12.04 MB)\n",
      "Model: pose\n",
      "  Total params: 140090189 (534.40 MB)\n",
      "  Total params trainable: 140090189 (534.40 MB)\n",
      "Total params: 185184850 (706.42 MB)\n",
      "Total params trainable: 163137490 (622.32 MB)\n",
      "Training model named:\n",
      "   mdp\n",
      "Models and tensorboard events files are saved to:\n",
      "   /mnt/nct-zfs/TCO-Test/jinjingxu/exps/train/mvp3r/results/unisfm/offline_imgs\n",
      "Training is using:\n",
      "   cuda\n",
      "Loading datasets...\n",
      "use only of_samples_num samples for OF, for OF training...\n",
      "using 50 samples for OF, for speed up training..\n",
      "Loading trajectories for 4 unique folders...\n"
     ]
    },
    {
     "name": "stderr",
     "output_type": "stream",
     "text": [
      "/mnt/cluster/workspaces/jinjingxu/proj/UniSfMLearner/submodule/Endo_FASt3r/trainer_end_to_end.py:828: UserWarning: Using StereoMIS dataset with split_appendix _4cases_trn\n",
      "  warnings.warn(f\"Using StereoMIS dataset with split_appendix {split_appendix}\")\n"
     ]
    },
    {
     "name": "stdout",
     "output_type": "stream",
     "text": [
      "Successfully loaded 4 trajectories\n",
      "Loaded 4 trajectories\n",
      "use only of_samples_num samples for OF, for OF training...\n",
      "using 50 samples for OF, for speed up training..\n",
      "Loading trajectories for 4 unique folders...\n",
      "Successfully loaded 4 trajectories\n",
      "Loaded 4 trajectories\n",
      "Using dataset:\n",
      "  \n",
      "  StereoMIS: _4cases_trn, /mnt/nct-zfs/TCO-All/SharedDatasets/StereoMIS_DARES_test/\n",
      "There are 50 training items and 50 validation items\n",
      "\n",
      "trainer initialized...\n"
     ]
    },
    {
     "name": "stderr",
     "output_type": "stream",
     "text": [
      "/mnt/cluster/environments/jinjingxu/pkg/envs/cu12/lib/python3.11/site-packages/torch/functional.py:534: UserWarning: torch.meshgrid: in an upcoming release, it will be required to pass the indexing argument. (Triggered internally at /opt/conda/conda-bld/pytorch_1729647348947/work/aten/src/ATen/native/TensorShape.cpp:3595.)\n",
      "  return _VF.meshgrid(tensors, **kwargs)  # type: ignore[attr-defined]\n"
     ]
    }
   ],
   "source": [
    "# load model\n",
    "trainer = Trainer(opts)\n",
    "print('trainer initialized...')"
   ]
  },
  {
   "cell_type": "code",
   "execution_count": 5,
   "metadata": {},
   "outputs": [
    {
     "name": "stderr",
     "output_type": "stream",
     "text": [
      "/tmp/ipykernel_3299804/1675230786.py:49: FutureWarning: You are using `torch.load` with `weights_only=False` (the current default value), which uses the default pickle module implicitly. It is possible to construct malicious pickle data which will execute arbitrary code during unpickling (See https://github.com/pytorch/pytorch/blob/main/SECURITY.md#untrusted-models for more details). In a future release, the default value for `weights_only` will be flipped to `True`. This limits the functions that could be executed during unpickling. Arbitrary objects will no longer be allowed to be loaded via this mode unless they are explicitly allowlisted by the user via `torch.serialization.add_safe_globals`. We recommend you start setting `weights_only=True` for any use case where you don't have full control of the loaded file. Please open an issue on GitHub for any issues related to this experimental feature.\n",
      "  pretrained_dict = torch.load(model_path)\n"
     ]
    },
    {
     "name": "stdout",
     "output_type": "stream",
     "text": [
      "pose_model_type: posetr_net\n",
      "Loading depth_model weights...\n",
      "Loading raft_flow weights...\n",
      "Loading transform_encoder weights...\n",
      "Loading transform weights...\n",
      "Loading pose weights...\n",
      "posetr_net model loading completed!\n"
     ]
    }
   ],
   "source": [
    "# load trained model for test\n",
    "import os\n",
    "TRAINED_MODELS_ROOT = '/mnt/nct-zfs/TCO-Test/jinjingxu/exps/train/mvp3r/results/unisfm/new_batch'\n",
    "traiend_models_root = '/mnt/nct-zfs/TCO-Test/jinjingxu/exps/train/mvp3r/results/unisfm/unfzD_SCARED_b3accu1_posetr_net_reloc3r_9D_OPTTranse01_ROTAng01_Loss_regTrMagWt0_regRotAngMagWt0_386to386rather4096_depthScratchDAM_motionDftFlow_allRegLoss_doubleB_loss2weight100_tanhandclampSample_deltaMax001/0918-212235/models/weights_4'\n",
    "traiend_models_root = '/mnt/nct-zfs/TCO-Test/jinjingxu/exps/train/mvp3r/results/unisfm/new_batch/b3accu4_scaredExcelSM_MonFast3r_trainedNfzD/1010-145110/models/weights_4'\n",
    "traiend_models_root = '/mnt/nct-zfs/TCO-Test/jinjingxu/exps/train/mvp3r/results/unisfm/new_batch/b3accu4_scaredcorrectedExcelSM_posetr_fzenc_trainedNfzD/1013-104014/models/weights_3'\n",
    "traiend_models_root = '/mnt/nct-zfs/TCO-Test/jinjingxu/exps/train/mvp3r/results/unisfm/new_batch/b3accu4_scaredcorrectedExcelSM_posetr_fzenc_trainedNfzD_dft_DAonly/1014-185504/models/weights_4'\n",
    "traiend_models_root = '/mnt/nct-zfs/TCO-Test/jinjingxu/exps/train/mvp3r/results/unisfm/new_batch/b3accu4_scaredcorrectedExcelSM_posetr_fzenc_trainedNfzD_learnedMskTrePx1_learnedlossR2Weight1_reproj2only/1014-173620/models/weights_4'\n",
    "traiend_models_name = 'b3accu4_scared_resnet_VdamsMetricNufzD_dft_DAonly'\n",
    "traiend_models_name = 'b3accu4_scared_resnet_VdamsRelativeNufzD_dft_DAonly'\n",
    "trained_models_root = os.path.join(TRAINED_MODELS_ROOT, traiend_models_name)\n",
    "\n",
    "print('pose_model_type:', opts.pose_model_type)\n",
    "if opts.pose_model_type == \"separate_resnet\":\n",
    "    pose_encoder_path = os.path.join(traiend_models_root, \"pose_encoder.pth\")\n",
    "    pose_decoder_path = os.path.join(traiend_models_root, \"pose.pth\")\n",
    "    assert os.path.exists(pose_encoder_path), f\"pose_encoder_path {pose_encoder_path} does not exist\"\n",
    "    assert os.path.exists(pose_decoder_path), f\"pose_decoder_path {pose_decoder_path} does not exist\"\n",
    "    trainer.models[\"pose_encoder\"].load_state_dict(torch.load(pose_encoder_path))\n",
    "    print(f\"loaded pose_encoder from {pose_encoder_path}\")\n",
    "    trainer.models[\"pose\"].load_state_dict(torch.load(pose_decoder_path))\n",
    "    print(f\"loaded pose_decoder from {pose_decoder_path}\")\n",
    "    # opts.enable_motion_computation = True\n",
    "\n",
    "\n",
    "    # load pretrained depth model\n",
    "    depth_model_path = os.path.join(traiend_models_root, \"depth_model.pth\")\n",
    "    depth_model_dict = torch.load(depth_model_path)\n",
    "    trainer.models[\"depth_model\"].load_state_dict(depth_model_dict)\n",
    "    print(f\"loaded depth_model from {depth_model_path}\")\n",
    "\n",
    "    # # load pretrained motion flow model\n",
    "    # motion_flow_model_path = os.path.join(traiend_models_root, \"motion_raft_flow.pth\")\n",
    "    # motion_flow_model_dict = torch.load(motion_flow_model_path)\n",
    "    # print(trainer.models.keys())\n",
    "    # # trainer.models[\"motion_raft_flow\"].load_state_dict(motion_flow_model_dict)\n",
    "    # # trainer.models[\"raft_flow\"].load_state_dict(motion_flow_model_dict)\n",
    "    # print(f\"loaded motion_flow_model from {motion_flow_model_path}\")\n",
    "elif opts.pose_model_type == \"endofast3r\" or opts.pose_model_type == \"posetr_net\":\n",
    "    # load trained models for evaluation\n",
    "    # refer to how resumed training is implemented in train_end_to_end.py\n",
    "    \n",
    "    # Load all models from the trained_models_root directory\n",
    "    for model_name, model in trainer.models.items():\n",
    "        model_path = os.path.join(traiend_models_root, f\"{model_name}.pth\")\n",
    "        if os.path.exists(model_path):\n",
    "            print(f\"Loading {model_name} weights...\")\n",
    "            model_dict = model.state_dict()\n",
    "            pretrained_dict = torch.load(model_path)\n",
    "            pretrained_dict = {k: v for k, v in pretrained_dict.items() if k in model_dict}\n",
    "            model_dict.update(pretrained_dict)\n",
    "            model.load_state_dict(model_dict)\n",
    "        else:\n",
    "            print(f\"Warning: {model_name}.pth not found, skipping...\")\n",
    "    \n",
    "    print(f\"{opts.pose_model_type} model loading completed!\")\n",
    "\n",
    "else:\n",
    "    assert False, \"pose_model_type should be separate_resnet or posetr_net\"\n",
    "\n",
    "\n"
   ]
  },
  {
   "cell_type": "code",
   "execution_count": 6,
   "metadata": {},
   "outputs": [],
   "source": [
    "# opts.pose_model_type\n",
    "trainer.opt.pose_model_type,trainer.opt.unireloc3r_pose_estimation_mode,trainer.opt.enable_all_depth,trainer.opt.enable_motion_computation,trainer.opt.enable_mutual_motion\n",
    "\n",
    "# trainer = Trainer(opts)\n",
    "self = trainer #Trainer(opts)\n",
    "\n",
    "\n",
    "# trainer.train()\n",
    "\"\"\"Run the entire training pipeline\n",
    "\"\"\"\n",
    "self.epoch = 0\n",
    "self.step = 0\n",
    "self.start_time = time.time()\n"
   ]
  },
  {
   "cell_type": "code",
   "execution_count": 7,
   "metadata": {},
   "outputs": [],
   "source": [
    "# force no shuffle when test\n",
    "from torch.utils.data import DataLoader\n",
    "self.train_dataset.is_train = False # avoid flip\n",
    "\n",
    "\n",
    "# avoid shuffle\n",
    "self.train_loader = DataLoader(\n",
    "    self.train_dataset, self.opt.batch_size, \n",
    "    shuffle=False,\n",
    "    num_workers=self.opt.num_workers, pin_memory=True, drop_last=True)"
   ]
  },
  {
   "cell_type": "code",
   "execution_count": 8,
   "metadata": {},
   "outputs": [
    {
     "name": "stdout",
     "output_type": "stream",
     "text": [
      "Training\n"
     ]
    },
    {
     "name": "stderr",
     "output_type": "stream",
     "text": [
      "/mnt/cluster/environments/jinjingxu/pkg/envs/cu12/lib/python3.11/site-packages/torch/nn/functional.py:4902: UserWarning: Default grid_sample and affine_grid behavior has changed to align_corners=False since 1.3.0. Please specify align_corners=True if the old behavior is desired. See the documentation of grid_sample for details.\n",
      "  warnings.warn(\n"
     ]
    },
    {
     "name": "stdout",
     "output_type": "stream",
     "text": [
      "Inferece motion mask in with posenet_DPThead in posetr_net...\n",
      "img_size: (256, 320)\n",
      "feat.shape: torch.Size([1, 320, 512])\n",
      "mask.shape: torch.Size([1, 256, 320])\n",
      "log in motion mask ['motion_mask_backward', 0, -1] torch.Size([1, 256, 320])\n",
      "img_size: (256, 320)\n",
      "feat.shape: torch.Size([1, 320, 512])\n",
      "mask.shape: torch.Size([1, 256, 320])\n",
      "log in motion mask ['motion_mask_backward', 0, 1] torch.Size([1, 256, 320])\n",
      " motion_mask_backward:  torch.Size([1, 1, 256, 320])\n",
      " motion_mask_backward:  torch.Size([1, 1, 256, 320])\n",
      " motion_mask_backward:  torch.Size([1, 1, 256, 320])\n",
      " motion_mask_backward:  torch.Size([1, 1, 256, 320])\n",
      " motion_mask_backward:  torch.Size([1, 1, 256, 320])\n",
      " motion_mask_backward:  torch.Size([1, 1, 256, 320])\n",
      " motion_mask_backward:  torch.Size([1, 1, 256, 320])\n",
      " motion_mask_backward:  torch.Size([1, 1, 256, 320])\n",
      "////frame_id as src: -1\n",
      "gt_tgt2src_rel_poses trans:\n",
      "tensor([[ 0.0402, -0.0157, -0.0087]], device='cuda:0')\n",
      "pred_rel_poses_batch trans:\n",
      "tensor([[-5.4489e-05, -5.9482e-05,  9.9089e-05]], device='cuda:0')\n",
      "////frame_id as src: 1\n",
      "gt_tgt2src_rel_poses trans:\n",
      "tensor([[ 0.0045, -0.1512, -0.0532]], device='cuda:0')\n",
      "pred_rel_poses_batch trans:\n",
      "tensor([[ 1.9082e-05,  2.5341e-05, -9.3168e-05]], device='cuda:0')\n",
      "epoch   0 | batch      0 | examples/s:   0.3 | loss: 0.00351 | loss_0: 0.00338 | time elapsed: 00h00m03s | time left: 00h00m00s\n",
      "  Pose Errors: trans_err_ang_deg: 98.796 | trans_err_scale: 0.102 | rot_err_deg: 0.082 | pred_rel_trans_scale: 0.000 | pred_f0_depth_scale: 0.274 | pred_f0_cam_points_x_mean: 0.002 | pred_f0_cam_points_y_mean: -0.014 | pred_f0_cam_points_z_mean: 0.274 | \n",
      "trans_err_ang_deg: [tensor(111.9392, device='cuda:0'), tensor(85.6535, device='cuda:0')]\n",
      "trans_err_scale: [tensor(0.0441, device='cuda:0'), tensor(0.1603, device='cuda:0')]\n",
      "rot_err_deg: [tensor(0.0816, device='cuda:0'), tensor(0.0816, device='cuda:0')]\n",
      "pred_rel_trans_scale: [tensor(0.0001, device='cuda:0'), tensor(9.8420e-05, device='cuda:0')]\n",
      "pred_f0_depth_scale: [tensor(0.2737, device='cuda:0'), tensor(0.2737, device='cuda:0')]\n",
      "pred_f0_cam_points_x_mean: [tensor(0.0023, device='cuda:0'), tensor(0.0023, device='cuda:0')]\n",
      "pred_f0_cam_points_y_mean: [tensor(-0.0137, device='cuda:0'), tensor(-0.0137, device='cuda:0')]\n",
      "pred_f0_cam_points_z_mean: [tensor(0.2737, device='cuda:0'), tensor(0.2737, device='cuda:0')]\n",
      "No color_MotionCorrected_-1_0 in outputs, fake it\n",
      "No motion_flow_-1_0 in outputs, fake it\n"
     ]
    },
    {
     "name": "stderr",
     "output_type": "stream",
     "text": [
      "[ WARN:0@25.829] global loadsave.cpp:848 imwrite_ Unsupported depth image for selected encoder is fallbacked to CV_8U.\n"
     ]
    },
    {
     "name": "stdout",
     "output_type": "stream",
     "text": [
      "saved Src-Colored_Tgt-Tgt-Registered_Tgt-Refined_Tgt-Colored_Motion_Tgt-Optic_Flow-Pose_Flow-Occlursion_Mask-Depth-Brightness-Motion_Flow-Motion_Mask-.png in /mnt/nct-zfs/TCO-Test/jinjingxu/exps/train/mvp3r/results/unisfm/offline_imgs/mdp/1018-092029/imgs/0_Src-Colored_Tgt-Tgt-Registered_Tgt-Refined_Tgt-Colored_Motion_Tgt-Optic_Flow-Pose_Flow-Occlursion_Mask-Depth-Brightness-Motion_Flow-Motion_Mask-_0_-1.png\n",
      "saved train_concat_img.png in /mnt/nct-zfs/TCO-Test/jinjingxu/exps/train/mvp3r/results/unisfm/offline_imgs/Src-Colored_Tgt-Tgt-Registered_Tgt-Refined_Tgt-Colored_Motion_Tgt-Optic_Flow-Pose_Flow-Occlursion_Mask-Depth-Brightness-Motion_Flow-Motion_Mask-_0_-1_0.png\n"
     ]
    }
   ],
   "source": [
    "# # trainer = Trainer(opts)\n",
    "# self = trainer #Trainer(opts)\n",
    "\n",
    "\n",
    "# # trainer.train()\n",
    "# \"\"\"Run the entire training pipeline\n",
    "# \"\"\"\n",
    "# self.epoch = 0\n",
    "# # self.step = 0\n",
    "# self.start_time = time.time()\n",
    "\n",
    "#quick and convenient but confusing recontrooling!\n",
    "# self.opt.min_depth = 10.0 #risky\n",
    "# self.opt.min_depth = 0.1 #risky\n",
    "# self.opt.max_depth = 150.0\n",
    "# self.opt.gt_metric_rel_pose_as_estimates_debug = False\n",
    "# self.opt.loss_reproj2_motion_mask_type = \"onthefly_monov2\"\n",
    "# self.opt.zero_pose_debug = True\n",
    "# self.opt.use_MF_network = True\n",
    "\n",
    "\n",
    "# trained fast3r\n",
    "# depth: 0.2-0.3\n",
    "# rel_pose_per_axis: 2e-4\n",
    "\n",
    "\n",
    "with torch.no_grad():\n",
    "    # for self.epoch in range(self.opt.num_epochs):\n",
    "    # self.run_epoch(self.epoch)\n",
    "    \"\"\"Run a single epoch of training and validation\n",
    "    \"\"\"\n",
    "    epoch = self.epoch\n",
    "    print(\"Training\")\n",
    "\n",
    "    self.model_optimizer_0.zero_grad()# debug only: save_mem\n",
    "    self.model_optimizer.zero_grad()# debug only: save_mem\n",
    "\n",
    "    for batch_idx, inputs in enumerate(self.train_loader):\n",
    "    # while True:\n",
    "\n",
    "        # train_iter = iter(self.train_loader)\n",
    "        # inputs = next(train_iter)\n",
    "\n",
    "\n",
    "\n",
    "        before_op_time = time.time()\n",
    "\n",
    "        # position\n",
    "        self.set_train_0()\n",
    "        if self.opt.debug:\n",
    "            self.freeze_params(keys = ['position_encoder'])#debug only to save_mem\n",
    "        _, losses_0 = self.process_batch_0(inputs)\n",
    "        self.model_optimizer_0.zero_grad()\n",
    "        # losses_0[\"loss\"].backward()#debug only\n",
    "        torch.nn.utils.clip_grad_norm_(self.parameters_to_train_0, max_norm=1.0)\n",
    "        self.model_optimizer_0.step()\n",
    "\n",
    "        self.set_train()\n",
    "        if self.opt.debug:\n",
    "            self.freeze_params(keys = ['depth_model', 'pose', 'transform_encoder'])#debug only to save_mem\n",
    "        outputs, losses= self.process_batch(inputs)\n",
    "        self.model_optimizer.zero_grad()\n",
    "        # losses[\"loss\"].backward() #debug only\n",
    "        torch.nn.utils.clip_grad_norm_(self.parameters_to_train, max_norm=1.0)\n",
    "        self.model_optimizer.step()\n",
    "\n",
    "        duration = time.time() - before_op_time\n",
    "\n",
    "        # phase = batch_idx % self.opt.log_frequency == 0\n",
    "\n",
    "        # # if phase:\n",
    "        # # self.log_time(batch_idx, duration, losses[\"loss\"].cpu().data)\n",
    "        # self.log_time(0, duration, losses[\"loss\"].cpu().data, losses_0[\"loss\"].cpu().data, )\n",
    "        # scalers_to_log = {\n",
    "        #     \"scalar/loss\": losses[\"loss\"],\n",
    "        #     \"scalar/loss_0\": losses_0[\"loss\"],\n",
    "        #     # \"scalar/trans_err\": metric_errs[\"trans_err\"].mean(),\n",
    "        #     # \"scalar/rot_err\": metric_errs[\"rot_err\"].mean()\n",
    "        # }\n",
    "        # for k, v in errs.items():\n",
    "        #     print(f\"scalar/{k}: {v}\")\n",
    "        #     scalers_to_log[f\"scalar/{k}\"] = v\n",
    "        # concat_img, img_order_strs = self.log(\"train\", inputs, outputs, scalers_to_log, compute_vis=True, online_vis=False)\n",
    "        \n",
    "        \n",
    "        # Use the accumulated loss for logging (multiply back to show effective loss)\n",
    "        # effective_loss = losses[\"loss\"] * (self.opt.accumulate_steps / max(1, accumulate_step % self.opt.accumulate_steps))\n",
    "        # self.log_time(batch_idx, duration, effective_loss.cpu().data)\n",
    "        losses_to_log = {\n",
    "            \"loss\": losses[\"loss\"],\n",
    "            \"loss_0\": losses_0[\"loss\"],\n",
    "        }\n",
    "        errs_to_log = {}\n",
    "        errs = self.compute_pose_metrics(inputs, outputs)\n",
    "        for k, v in errs.items():\n",
    "            assert len(v) == len(self.opt.frame_ids)-1, f'{k}: {v}'\n",
    "            # v is a list of torch tensors, average over them\n",
    "            errs_to_log[f\"{k}\"] = torch.mean(torch.stack(v)).item()\n",
    "\n",
    "        self.log_time(self.step, duration, losses[\"loss\"].cpu().data, losses_0[\"loss\"].cpu().data, \n",
    "                        errs_to_log)\n",
    "        scalers_to_log = {**losses_to_log, **errs_to_log}\n",
    "        scalers_to_log = {f\"scalar/{k}\": v for k, v in scalers_to_log.items()}    \n",
    "        # #compute_pose_err\n",
    "        for k, v in errs.items():\n",
    "            print(f\"{k}: {v}\")\n",
    "\n",
    "        # print('trans_err:', outputs[(\"trans_err\", 0)])\n",
    "        # print('rot_err:', outputs[(\"rot_err\", 0)])\n",
    "\n",
    "\n",
    "\n",
    "        # concat_img, img_order_strs = self.log(\"train\", inputs, outputs, \n",
    "        concat_img_list, img_order_strs_list = self.log(\"train\", inputs, outputs, \n",
    "                    scalers_to_log, \n",
    "                    compute_vis=True)\n",
    "\n",
    "        import os, cv2\n",
    "        save_path = \"/mnt/cluster/workspaces/jinjingxu/proj/UniSfMLearner/submodule/Endo_FASt3r/tmp\"\n",
    "        save_path = '/mnt/nct-zfs/TCO-Test/jinjingxu/exps/train/mvp3r/results/unisfm/offline_imgs'\n",
    "        os.makedirs(save_path, exist_ok=True)\n",
    "        for concat_img, img_order_strs in zip(concat_img_list, img_order_strs_list):\n",
    "        # concat_img, img_order_strs = self.log(\"train\", inputs, outputs, \n",
    "\n",
    "            # remove the first char before the first _\n",
    "            # img_order_strs = img_order_strs.split('_')[1:]\n",
    "            # img_order_strs = '_'.join(img_order_strs)\n",
    "            # full_save_path = os.path.join(save_path, f\"{img_order_strs}.png\")\n",
    "            full_save_path = os.path.join(save_path, f\"{img_order_strs}_{self.step}.png\")\n",
    "            cv2.imwrite(full_save_path, concat_img)\n",
    "            print(f\"saved train_concat_img.png in {full_save_path}\")\n",
    "\n",
    "        self.step += 1\n",
    "        \n",
    "        # break\n",
    "            \n",
    "        self.model_lr_scheduler.step()\n",
    "        self.model_lr_scheduler_0.step()\n",
    "\n",
    "        # if (self.epoch + 1) % self.opt.save_frequency == 0:\n",
    "        #     self.save_model()\n",
    "        break\n",
    "    \n",
    "\n",
    "\n",
    "    # depth dim:\n",
    "    # 256 320\n",
    "    # 128,160,  \n",
    "    # 64,80,\n",
    "    # 32 40    # ===we go for this\n",
    "\n",
    "\n",
    "\n",
    "# 0.06 0.04 0.04"
   ]
  },
  {
   "cell_type": "code",
   "execution_count": 9,
   "metadata": {},
   "outputs": [],
   "source": [
    "# 97 -16 -43"
   ]
  },
  {
   "cell_type": "code",
   "execution_count": 10,
   "metadata": {},
   "outputs": [],
   "source": [
    "\n",
    "# self.set_eval()\n",
    "# try:\n",
    "#     # inputs = self.val_iter.next()\n",
    "#     inputs = next(self.val_iter)\n",
    "# except StopIteration:\n",
    "#     self.val_iter = iter(self.val_loader)\n",
    "#     inputs = self.val_iter.next()\n",
    "\n",
    "# with torch.no_grad():\n",
    "#     # outputs, losses = self.process_batch_val(inputs)\n",
    "#     \"\"\"Pass a minibatch through the network and generate images and losses\n",
    "#     \"\"\"\n",
    "#     for key, ipt in inputs.items():\n",
    "#         inputs[key] = ipt.to(self.device)\n",
    "\n",
    "#     if self.opt.pose_model_type == \"shared\":\n",
    "#         # If we are using a shared encoder for both depth and pose (as advocated\n",
    "#         # in monodepthv1), then all images are fed separately through the depth encoder.\n",
    "#         print('CHECK: self.opt.pose_model_type == \"shared\"')\n",
    "#         all_color_aug = torch.cat([inputs[(\"color_aug\", i, 0)] for i in self.opt.frame_ids])\n",
    "#         all_features = self.models[\"encoder\"](all_color_aug)\n",
    "#         all_features = [torch.split(f, self.opt.batch_size) for f in all_features]\n",
    "\n",
    "#         features = {}\n",
    "#         for i, k in enumerate(self.opt.frame_ids):\n",
    "#             features[k] = [f[i] for f in all_features]\n",
    "\n",
    "#         outputs = self.models[\"depth\"](features[0])\n",
    "#     else:\n",
    "#         print('CHECK: self.opt.pose_model_type != \"shared\"')\n",
    "#         # Otherwise, we only feed the image with frame_id 0 through the depth encoder\n",
    "#         features = self.models[\"encoder\"](inputs[\"color_aug\", 0, 0])\n",
    "#         outputs = self.models[\"depth\"](features)\n",
    "\n",
    "#     if self.opt.predictive_mask:\n",
    "#         outputs[\"predictive_mask\"] = self.models[\"predictive_mask\"](features)\n",
    "\n",
    "#     if self.use_pose_net:\n",
    "#         outputs.update(self.predict_poses(inputs, features, outputs))\n",
    "\n",
    "#     self.generate_images_pred(inputs, outputs)\n",
    "#     losses = self.compute_losses_val(inputs, outputs)\n",
    "\n",
    "#     # return outputs, losses\n",
    "\n",
    "#     self.log(\"val\", inputs, outputs, losses)\n",
    "#     del inputs, outputs, losses"
   ]
  },
  {
   "cell_type": "code",
   "execution_count": null,
   "metadata": {},
   "outputs": [],
   "source": []
  },
  {
   "cell_type": "code",
   "execution_count": null,
   "metadata": {},
   "outputs": [],
   "source": []
  }
 ],
 "metadata": {
  "kernelspec": {
   "display_name": "cu12",
   "language": "python",
   "name": "python3"
  },
  "language_info": {
   "codemirror_mode": {
    "name": "ipython",
    "version": 3
   },
   "file_extension": ".py",
   "mimetype": "text/x-python",
   "name": "python",
   "nbconvert_exporter": "python",
   "pygments_lexer": "ipython3",
   "version": "3.11.11"
  }
 },
 "nbformat": 4,
 "nbformat_minor": 2
}
